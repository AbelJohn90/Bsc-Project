{
 "cells": [
  {
   "cell_type": "markdown",
   "metadata": {},
   "source": [
    "# Lab 2\n",
    "\n",
    "\n",
    "* It is expected that you work individually and the usual plagarism rules apply.\n",
    "* Submissions are to be made on canvas. Make sure that you add your student ID in the submission comments.\n",
    "* The main notebook file you submit should read \"Lab[number]_[last name].ipynb\", for example \"Lab2_Bongers.ipynb\". \n",
    "* Please make sure your code will run without problems\n",
    "\n",
    "_You need to fill in everywhere that there is a_ '__TODO__'\n",
    "\n",
    "Feel free ask any questions during the computer lab sessions, or email the TA.\n",
    "\n",
    "**The due date for the labs is next Monday at 23:59**\n",
    "\n",
    "## Part 1: Model 1\n",
    "\n",
    "\n",
    "In this part of the lab you will plot the prior, posterior and predictive distributions for a set of data that we assume to follow an exponential distribution."
   ]
  },
  {
   "cell_type": "code",
   "execution_count": 1,
   "metadata": {},
   "outputs": [],
   "source": [
    "import math\n",
    "import numpy as np\n",
    "import scipy.stats as st\n",
    "import matplotlib.pyplot as plt\n",
    "%matplotlib inline\n",
    "\n",
    "import statsmodels.datasets\n",
    "\n",
    "from scipy import integrate"
   ]
  },
  {
   "cell_type": "markdown",
   "metadata": {},
   "source": [
    "Statsmodels is a Python package for conducting statistical data analyses. It also contains real-world datasets that we can use when experimenting with new methods. Here, we load the heart dataset. Each line indicates the number of days that a patient survived after a heart transplant, together with the age of the patient.\n",
    "\n",
    "Here you can have a look at the 5 last lines of the data frame."
   ]
  },
  {
   "cell_type": "code",
   "execution_count": 2,
   "metadata": {},
   "outputs": [
    {
     "data": {
      "text/html": [
       "<div>\n",
       "<style scoped>\n",
       "    .dataframe tbody tr th:only-of-type {\n",
       "        vertical-align: middle;\n",
       "    }\n",
       "\n",
       "    .dataframe tbody tr th {\n",
       "        vertical-align: top;\n",
       "    }\n",
       "\n",
       "    .dataframe thead th {\n",
       "        text-align: right;\n",
       "    }\n",
       "</style>\n",
       "<table border=\"1\" class=\"dataframe\">\n",
       "  <thead>\n",
       "    <tr style=\"text-align: right;\">\n",
       "      <th></th>\n",
       "      <th>survival</th>\n",
       "      <th>censors</th>\n",
       "      <th>age</th>\n",
       "    </tr>\n",
       "  </thead>\n",
       "  <tbody>\n",
       "    <tr>\n",
       "      <th>64</th>\n",
       "      <td>14.0</td>\n",
       "      <td>1.0</td>\n",
       "      <td>40.3</td>\n",
       "    </tr>\n",
       "    <tr>\n",
       "      <th>65</th>\n",
       "      <td>167.0</td>\n",
       "      <td>0.0</td>\n",
       "      <td>26.7</td>\n",
       "    </tr>\n",
       "    <tr>\n",
       "      <th>66</th>\n",
       "      <td>110.0</td>\n",
       "      <td>0.0</td>\n",
       "      <td>23.7</td>\n",
       "    </tr>\n",
       "    <tr>\n",
       "      <th>67</th>\n",
       "      <td>13.0</td>\n",
       "      <td>0.0</td>\n",
       "      <td>28.9</td>\n",
       "    </tr>\n",
       "    <tr>\n",
       "      <th>68</th>\n",
       "      <td>1.0</td>\n",
       "      <td>0.0</td>\n",
       "      <td>35.2</td>\n",
       "    </tr>\n",
       "  </tbody>\n",
       "</table>\n",
       "</div>"
      ],
      "text/plain": [
       "    survival  censors   age\n",
       "64      14.0      1.0  40.3\n",
       "65     167.0      0.0  26.7\n",
       "66     110.0      0.0  23.7\n",
       "67      13.0      0.0  28.9\n",
       "68       1.0      0.0  35.2"
      ]
     },
     "execution_count": 2,
     "metadata": {},
     "output_type": "execute_result"
    }
   ],
   "source": [
    "data_original = statsmodels.datasets.heart.load_pandas().data\n",
    "data_original.tail()"
   ]
  },
  {
   "cell_type": "markdown",
   "metadata": {},
   "source": [
    "This dataset contains censored and uncensored data: a censor of $0$ means that the patient was alive at the end of the study, and thus we don't know the exact survival time. We only know that the patient survived at least the indicated number of days. For simplicity here, we only keep uncensored data (we thereby introduce a bias toward patients that did not survive very long after their transplant) and we store it in an array 'data_full'. We also divided each number by 365, so the period of time that a patient survived a heart transplant is given in years."
   ]
  },
  {
   "cell_type": "code",
   "execution_count": 3,
   "metadata": {},
   "outputs": [],
   "source": [
    "data_original = data_original[data_original.censors == 1]\n",
    "survival = data_original.survival\n",
    "survival=np.array(survival)\n",
    "data_full=survival/365"
   ]
  },
  {
   "cell_type": "markdown",
   "metadata": {},
   "source": [
    "In the array 'data', we store the first 'p' elements of 'data_complete'. First, we let 'p' be $45$. The idea is we are going to predict the distribution of the survival time only using 'p' data (while the full dataset contains $69$ data) and later, we can play with the value of 'p' and see how many data are actually needed to have a satisfying prediction. We also plot the data. "
   ]
  },
  {
   "cell_type": "code",
   "execution_count": 4,
   "metadata": {},
   "outputs": [
    {
     "name": "stdout",
     "output_type": "stream",
     "text": [
      "0.7264187866927594\n"
     ]
    },
    {
     "data": {
      "image/png": "[encoded data removed]",
      "text/plain": [
       "<Figure size 432x288 with 1 Axes>"
      ]
     },
     "metadata": {
      "needs_background": "light"
     },
     "output_type": "display_data"
    }
   ],
   "source": [
    "# restricting the data to p elements\n",
    "p=35\n",
    "data=data_full[:p]\n",
    "N=len(data)\n",
    "\n",
    "# plotting the data\n",
    "datamin = np.amin(data)\n",
    "datamax = np.amax(data)\n",
    "absmax = np.maximum(np.abs(datamin), np.abs(datamax)) + 1\n",
    "plt.figure(0)\n",
    "plt.hist(data, bins=10)\n",
    "plt.xlim(0, absmax)\n",
    "plt.xlabel('Survival time')\n",
    "plt.title('Histogram of training data $\\mathcal{D}$')\n",
    "\n",
    "print(np.mean(data))"
   ]
  },
  {
   "cell_type": "markdown",
   "metadata": {},
   "source": [
    "We assume that the data follows an exponential distribution with parameter $\\lambda$. That is,\n",
    "$$\n",
    "p(x|\\lambda)=\\lambda e^{-\\lambda x}\n",
    "$$\n",
    "We also suppose that the prior distribution for $\\lambda$ is a Gamma distribution with parameters $\\alpha$ and $\\beta$\n",
    "$$\n",
    "p(\\lambda)= \\frac{1}{Z(\\alpha,\\beta)} \\lambda^{\\alpha-1} e^{-\\beta \\lambda}\n",
    "$$\n",
    "Initially, we suppose $\\alpha=2$ and $\\beta=2$. We start by plotting the prior distribution. The code below plots the function\n",
    "$$\n",
    "\\lambda^{\\alpha-1} e^{-\\beta \\lambda}\n",
    "$$\n",
    "So if we would normalize that function, we would obtain the prior distribution. It is *almost* the prior, the problem being that the area under the graph might not be $1$."
   ]
  },
  {
   "cell_type": "code",
   "execution_count": 5,
   "metadata": {},
   "outputs": [
    {
     "data": {
      "image/png": "[encoded data removed]",
      "text/plain": [
       "<Figure size 432x288 with 1 Axes>"
      ]
     },
     "metadata": {
      "needs_background": "light"
     },
     "output_type": "display_data"
    }
   ],
   "source": [
    "#plotting the prior up to a constant (not normalized)\n",
    "\n",
    "def gam(x,alpha=1.1,beta=3):\n",
    "    return x**(alpha-1)*np.exp(-x*beta)\n",
    "\n",
    "alpha=1.1\n",
    "beta=3\n",
    "x=np.linspace(0,3,5000)\n",
    "plt.plot(x,gam(x))\n",
    "plt.xlabel('$\\lambda$')\n",
    "plt.ylabel('unormalized prior $p(\\lambda)$')\n",
    "plt.show()"
   ]
  },
  {
   "cell_type": "markdown",
   "metadata": {},
   "source": [
    "One way from the previous graph to obtain the prior distribution is to define a function `area(func,a,b)` that computes the area under the graph of the function `func` in the interval $[a,b]$. Then we define a function `norm_plot(func,a,b,legend)` which given a function `func` and an interval $[a,b]$, plots the *normalized* graph of `func` in the interval $[a,b]$ and write `legend` as a legend of the graph. You don't have to write the code for `norm_plot(func,a,b,legend)`, but make sure you understand how it works.  \n",
    "\n",
    "__TODO1__(0.5pt) Define the function `area(func,a,b)`. In order to compute the area under the graph of a function, we use integration. You can use the following built-in function to define  `area(func,a,b)`:\n",
    "https://docs.scipy.org/doc/scipy/reference/generated/scipy.integrate.quad.html#scipy.integrate.quad\n",
    "\n",
    "Make sure that the output is indeed a scalar."
   ]
  },
  {
   "cell_type": "code",
   "execution_count": 6,
   "metadata": {},
   "outputs": [],
   "source": [
    "def area(func,a,b):\n",
    "    return integrate.quad(func, a, b)[0]\n",
    "\n",
    "def norm_plot(func,a,b,labelx, labely, legend):\n",
    "    x=np.linspace(a,b,1000)\n",
    "    norm_func=func(x)*(1/area(func,0,200))\n",
    "    plt.xlabel(labelx, fontsize=13)\n",
    "    plt.ylabel(labely, fontsize=13)\n",
    "    plt.plot(x,norm_func,label=legend)"
   ]
  },
  {
   "cell_type": "markdown",
   "metadata": {},
   "source": [
    "__TODO2__(0.5pt) Using the function `norm_plot`, plot the prior distribution in the interval $[0,3]$."
   ]
  },
  {
   "cell_type": "code",
   "execution_count": 7,
   "metadata": {},
   "outputs": [
    {
     "data": {
      "image/png": "[encoded data removed]",
      "text/plain": [
       "<Figure size 432x288 with 1 Axes>"
      ]
     },
     "metadata": {
      "needs_background": "light"
     },
     "output_type": "display_data"
    }
   ],
   "source": [
    "norm_plot(gam, 0, 3, '$\\lambda$', 'uniformized prior', 'Prior Distribution')\n",
    "plt.legend()\n",
    "\n",
    "plt.show()"
   ]
  },
  {
   "cell_type": "markdown",
   "metadata": {},
   "source": [
    "The formula for calculating the posterior distribution is \n",
    "$$\n",
    "p(\\lambda|\\mathcal{D}) = \\frac{p(\\mathcal{D}|\\lambda)p(\\lambda)}{p(\\mathcal{D})}\n",
    "$$\n",
    "where $\\mathcal{D}$ is the set of data. Before calculating analytically the posterior distribution for $\\lambda$, we will compute by brute force the value of $\\lambda$, which we call $\\lambda_{\\text{brute force}}$, such that $p(\\lambda_{\\text{brute force}}|\\mathcal{D})$ is maximum.   \n",
    "\n",
    "Given the above equation, we know that\n",
    "$$\n",
    "p(\\lambda|\\mathcal{D}) \\propto p(\\mathcal{D}|\\lambda)p(\\lambda)\n",
    "$$\n",
    "So we have to find $\\lambda_{\\text{brute force}}$ such that \n",
    "$$\n",
    "p(\\mathcal{D}|\\lambda_{\\text{brute force}})p(\\lambda_{\\text{brute force}})\n",
    "$$\n",
    "is maximum. \n",
    "\n",
    "The idea is that for *enough* $\\lambda_1, \\dots,\\lambda_k$, we compute the array `A`\n",
    "$$\n",
    "\\begin{bmatrix}\n",
    "p(\\mathcal{D}|\\lambda_1)p(\\lambda_1) \\\\\n",
    "p(\\mathcal{D}|\\lambda_2)p(\\lambda_2) \\\\\n",
    "\\dots \\\\\n",
    "p(\\mathcal{D}|\\lambda_k)p(\\lambda_k)\n",
    "\\end{bmatrix}\n",
    "$$\n",
    "and then using the `argmax` function, we find the $\\lambda_i$ corresponding to the highest value in `A`. This $\\lambda_i$ is our $\\lambda_{\\text{brute force}}$. \n",
    "\n",
    "__TODO3__(2pts) Write a program that outputs the value of the variable `lambda_brute_force`, which should be $\\lambda_{\\text{brute force}}$. It should follow the steps of the method described above. In order to generate the set $\\{ \\lambda_1, \\dots,\\lambda_k \\}$, you can use `np.linspace(0,10,k)`. Then define the array `A` as above. Note that $p(\\mathcal{D}|\\lambda_j)$ refers to an exponential distribution with parameter $\\lambda_j$ and $p(\\lambda_j)$ refers to a gamma distribution with parameters $\\alpha$ and $\\beta$ ($\\alpha$ and $\\beta$ have the same values as before). Finally, using `argmax`, find the $\\lambda_i$ corresponding to the highest value of `A`. \n",
    "\n",
    "__BONUS__ Write the program without using any `for` loops."
   ]
  },
  {
   "cell_type": "code",
   "execution_count": 8,
   "metadata": {},
   "outputs": [
    {
     "name": "stdout",
     "output_type": "stream",
     "text": [
      "The brute force estimator of lambda is:  1.2244897959183674\n"
     ]
    }
   ],
   "source": [
    "k=50\n",
    "\n",
    "def brute_force(data, k):\n",
    "    l = np.linspace(0, 10, k)\n",
    "    l_exp = l**(len(data)) * np.exp(-l * np.sum(data))\n",
    "    A = gam(l) * l_exp\n",
    "    return l[np.argmax(A)]\n",
    "\n",
    "lambda_brute_force = brute_force(data, k)\n",
    "\n",
    "print(\"The brute force estimator of lambda is: \", lambda_brute_force)"
   ]
  },
  {
   "cell_type": "markdown",
   "metadata": {},
   "source": [
    "__TODO4__(0.5pt) Define `alpha_post` and `beta_post` as the parameters of the posterior distribution (the formulas for `alpha_post` and `beta_post` are the answers from the first question of the werkcollege). Plot the posterior distribution using the function `norm_plot`. Note that this time, you cannot use the function `gam` as this function has parameters $\\alpha$ and $\\beta$ (and the parameters should be `alpha_post` and `beta_post`). So you need to define a new function as an input for `norm_plot`. \n",
    "\n",
    "We also plotted for you the prior distribution and the brute force estimator. So you can compare those with the posterior distribution."
   ]
  },
  {
   "cell_type": "code",
   "execution_count": 9,
   "metadata": {
    "scrolled": true
   },
   "outputs": [
    {
     "data": {
      "image/png": "[encoded data removed]",
      "text/plain": [
       "<Figure size 432x288 with 1 Axes>"
      ]
     },
     "metadata": {
      "needs_background": "light"
     },
     "output_type": "display_data"
    }
   ],
   "source": [
    "#plotting the posterior distribution, to be filled in\n",
    "def post_gam(x, alpha=1.1, beta=3):\n",
    "    alpha_post = len(data) + alpha\n",
    "    beta_post = sum(data) + beta\n",
    "    return gam(x, alpha=alpha_post, beta=beta_post)\n",
    "#plotting the prior distribution, given\n",
    "norm_plot(gam,0,8,'$\\lambda$','','Prior')\n",
    "norm_plot(post_gam, 0, 8, '$\\lambda$','', 'Posterior')\n",
    "#plotting the brute force operator, given\n",
    "plt.plot(20*[lambda_brute_force],np.linspace(0,0.76,20),label='Brute force estimator')\n",
    "plt.legend()\n",
    "plt.show()"
   ]
  },
  {
   "cell_type": "markdown",
   "metadata": {},
   "source": [
    "__TODO5__(0.5pt) Try again to run the above program with different values for `p` and for $\\alpha$ and $\\beta$. Starting from which value of `p`, are we starting to have a stable prediction? (that is, how much data is sufficient to have already a satisfying prediction?) What happens when we start with different values of $\\alpha$ and $\\beta$? Does it affect a lot the posterior distribution?\n",
    "\n",
    "Increasing $\\alpha$ will change the posterior and the brute force estimator will not be placed well. The same goes for increasing $\\beta$. \n",
    "\n",
    "__TODO6__(0.5pt) Draw a random sample $S$ of size `M`from the posterior distribution $p(\\lambda | \\mathcal{D})$. Then, for each value of $\\lambda$ in $S$, we draw for you the exponential distribution with parameter $\\lambda$. In order to draw the random sample, you can use the following built-in function\n",
    "https://docs.scipy.org/doc/numpy-1.15.0/reference/generated/numpy.random.gamma.html"
   ]
  },
  {
   "cell_type": "code",
   "execution_count": null,
   "metadata": {},
   "outputs": [],
   "source": [
    "#represent various p(x|lambda) for different lambda ~ p(lambda|data)\n",
    "M=500\n",
    "#only this line to be filled in \n",
    "# it should be this, but it says alpha_post is not defined\n",
    "# np.random.gamma(shape=alpha_post,scale=1/beta_post,size=M) \n",
    "sample_lambda = np.random.gamma(shape=alpha,scale=1/beta,size=M) \n",
    "\n",
    "def expo(x,lam):\n",
    "    return lam*np.exp(-lam*x)\n",
    "\n",
    "plt.figure(figsize=(12,8))\n",
    "for i in range(0,M):\n",
    "    plt.plot(x,expo(x,sample_lambda[i]),label='$\\lambda$=%.3f'%sample_lambda[i], \\\n",
    "             color='b', alpha=0.01)    \n",
    "\n",
    "plt.xlabel('Survival time: $x$', fontsize=15)\n",
    "plt.ylabel('$p(x | \\lambda)$', fontsize=15)\n",
    "plt.xlim(0,3)\n",
    "plt.ylim(0,2)\n",
    "plt.show()"
   ]
  },
  {
   "cell_type": "markdown",
   "metadata": {},
   "source": [
    "We compute now the maximum a posteriori (MAP) estimator of $\\lambda$, which is the mode of the posterior distribution. In case of a gamma distribution with parameters $\\alpha$ and $\\beta$, the mode is given by\n",
    "$$\n",
    "\\frac{\\alpha-1}{\\beta}\n",
    "$$\n",
    "\n",
    "__TODO7__(0.5pt) Compute the MAP estimator  $\\lambda_{MAP}$ of $\\lambda$. Compute also the maximum likelihood estimator $\\lambda_{ML}$ of $\\lambda$ (recall that it is equal to $\\frac{N}{\\sum_i x_i}$, where $\\{ x_1, \\dots, x_n\\}$ is the set of `data`). Then plot the exponential distribution with parameter $\\lambda_{MAP}$ and the exponential distribution with parameter $\\lambda_{ML}$. How do the two estimators compare to each other? And how do they compare with the brute force estimator?"
   ]
  },
  {
   "cell_type": "code",
   "execution_count": null,
   "metadata": {},
   "outputs": [],
   "source": [
    "#compute the MAP estimator of lambda using the theoretical formula, to be filled in\n",
    "# weet niet zeker of de haakjes in de noemer kloppen\n",
    "lambda_MAP = (alpha + len(data) - 1)/(beta + sum(data))\n",
    "\n",
    "print('The maximum a posteriori estimate of lambda is: ',lambda_MAP)\n",
    "plt.xlabel('Survival time:$x$')\n",
    "plt.plot(x,expo(x,lambda_MAP), label='$p(x|\\lambda_{MAP})$')\n",
    "\n",
    "#compute the ML estimator of lambda, to be filled in\n",
    "lambda_ML = len(data)/sum(data)\n",
    "\n",
    "print('The maximum likelihood estimator of lambda is: ',lambda_ML)\n",
    "plt.plot(x,expo(x,lambda_ML),label='$p(x|\\lambda_{ML})$')\n",
    "\n",
    "#print again the brute force estimator, given\n",
    "print('The brute force estimator of lambda is: ',lambda_brute_force)\n",
    "plt.plot(x,expo(x,lambda_brute_force),label='$p(x|\\lambda_{\\mathit{brute force}})$')\n",
    "plt.legend()\n",
    "plt.show()"
   ]
  },
  {
   "cell_type": "markdown",
   "metadata": {},
   "source": [
    "Finally we plot the predictive distribution. It is basically the distribution for future predicted data based on the data we have been given. So the posterior predictive distribution can be used to predict new data values. In the case of an exponential distribution for the data and a prior which is a gamma distribution, the predictive distribution is given by\n",
    "$$\n",
    "\\frac{\\alpha'(\\beta')^{\\alpha'}}{(\\beta'+x)^{\\alpha'+1}}\n",
    "$$\n",
    "where $\\alpha'$ and $\\beta'$ are the parameters of the posterior distribution. \n",
    "\n",
    "__TODO8__(0.5pt) Plot the predictive distribution."
   ]
  },
  {
   "cell_type": "code",
   "execution_count": null,
   "metadata": {},
   "outputs": [],
   "source": [
    "#compute the distributive and compare with p(x|lambda_MAP), given\n",
    "plt.xlabel('Survival time:$x$')\n",
    "plt.plot(x,expo(x,lambda_MAP),label='$p(x|\\lambda_{MAP})$')\n",
    "\n",
    "#compute the predictive distribution, to be filled in\n",
    "# volgens mij haal ik hier de data door elkaar\n",
    "alpha_post = len(data) + alpha\n",
    "beta_post = sum(data) + beta\n",
    "predictive_dist = (alpha_post*(beta_post**alpha_post))/((beta_post + data)**(alpha_post + 1))\n",
    "plt.plot(range(len(data)), predictive_dist,label='MAP $\\lambda$')\n",
    "plt.legend()\n",
    "plt.show()"
   ]
  },
  {
   "cell_type": "markdown",
   "metadata": {},
   "source": [
    "## Part 2: Model 2\n",
    "\n",
    "We will now use the same data but a different model. That will help us to see the impact of choosing a less suitable distribution for the variable $x$.  In this second model, we assume that our random variable $x$ of the survival time (in years) follows a gaussian distribution $p(x|\\mu)$ with unknown mean $\\mu$ and standard deviation $1$. Our unknown parameter is now $\\mu$ and we assume a prior on $\\mu$ that is a gaussian with mean $\\mu_0 =1$ and standard deviation $\\sigma_0 =1$. \n",
    "\n",
    "__TODO9__(0.5pt) Plot the prior distribution of $\\mu$. You can use the following built-in function\n",
    "https://docs.scipy.org/doc/scipy/reference/generated/scipy.stats.norm.html"
   ]
  },
  {
   "cell_type": "code",
   "execution_count": null,
   "metadata": {},
   "outputs": [],
   "source": [
    "import scipy as sc\n",
    "\n",
    "x = np.linspace(-2, 4, 100)\n",
    "distribution = sc.stats.norm(loc=1, scale=1)\n",
    "plt.plot(x, distribution.pdf(x))\n",
    "plt.show()"
   ]
  },
  {
   "cell_type": "markdown",
   "metadata": {},
   "source": [
    "Given the dataset ``data`` of size $N$, we want to update the prior distribution of the unknown parameter $\\mu$ and compute the posterior. We can compute analytically the posterior when the distribution is a gaussian with known standard deviation, and the prior is also a gaussian. You can even find the most general formula for the posterior in wikipedia https://en.wikipedia.org/wiki/Conjugate_prior (see the table of conjugate distributions and look at the line 'normal with known variance')\n",
    "\n",
    "Here, we give you directly the formula for the posterior, so you don't have to work it out analytically like we did for Model 1. The posterior is a gaussian distribution with mean \n",
    "$$\n",
    "\\mu_{post} = \\frac{1}{N+1} (1+\\sum_{i=1}^N x_i)\n",
    "$$\n",
    "and standard deviation\n",
    "$$\n",
    "\\sigma_{post} = \\sqrt{\\frac{1}{N+1}}\n",
    "$$\n",
    "\n",
    "__TODO10__(0.5pt) Plot the posterior distribution of $\\mu$. "
   ]
  },
  {
   "cell_type": "code",
   "execution_count": null,
   "metadata": {},
   "outputs": [],
   "source": [
    "u_post = 1./(len(data) + 1.) * (1. + sum(data))\n",
    "s_post = np.sqrt(1./(len(data) + 1.))\n",
    "x = np.linspace((u_post - (3 * s_post)), (u_post + (3 * s_post)), 100)\n",
    "distribution = sc.stats.norm(loc=u_post, scale=s_post)\n",
    "plt.plot(x, distribution.pdf(x))\n",
    "plt.show()"
   ]
  },
  {
   "cell_type": "markdown",
   "metadata": {},
   "source": [
    "Now to have a more intuitive idea of the posterior, we will again draw a large sample of values of $\\mu$ from the posterior distribution and for each of those values, we draw the corresponding distribution $p(x|\\mu)$.\n",
    "\n",
    "__TODO11__(0.5pt) Draw a random sample $S$ of size `M`from the posterior distribution $p(\\mu | \\mathcal{D})$. In order to draw the random sample, you can use the following built-in function https://docs.scipy.org/doc/numpy-1.15.0/reference/generated/numpy.random.normal.html"
   ]
  },
  {
   "cell_type": "code",
   "execution_count": null,
   "metadata": {},
   "outputs": [],
   "source": [
    "#visualize the posterior\n",
    "#represent various p(x|mu) for different mu ~ p(mu|data)\n",
    "M=500\n",
    "#only this line to be filled in \n",
    "sample_mu = np.random.normal(loc=u_post, scale=s_post, size=M)\n",
    "x = np.linspace(0,3,5000)\n",
    "#def expo(x,lam):\n",
    "#    return lam*np.exp(-lam*x)\n",
    "\n",
    "plt.figure(figsize=(12,8))\n",
    "for i in range(0,M):\n",
    "    plt.plot(x,st.norm.pdf(x,sample_mu[i]), color='b', alpha=0.01)    \n",
    "\n",
    "plt.xlabel('Survival time: $x$', fontsize=15)\n",
    "plt.ylabel('$p(x | \\lambda)$', fontsize=15)\n",
    "plt.xlim(0,3)\n",
    "plt.ylim(0,0.5)\n",
    "plt.show()"
   ]
  },
  {
   "cell_type": "markdown",
   "metadata": {},
   "source": [
    "Finally we plot the predictive distribution. You can again find the most general form of the predictive distribution (for a gaussian with known variance, and a gaussian prior) on the same wikipedia page. In our simplified case, the predictive distribution is a gaussian with mean\n",
    "$$\n",
    "\\mu_{pred} = \\mu_{post}\n",
    "$$\n",
    "and standard deviation\n",
    "$$\n",
    "\\sigma_{pred} = \\sqrt{\\sigma^2_{post} +1}\n",
    "$$\n",
    "\n",
    "__TODO12__(0.5pt) Plot the predictive distribution."
   ]
  },
  {
   "cell_type": "code",
   "execution_count": null,
   "metadata": {},
   "outputs": [],
   "source": [
    "mu_pred = u_post\n",
    "sigma_pred = np.sqrt(s_post**2 + 1)\n",
    "# linspace vanaf 0 is misschien beter\n",
    "x = np.linspace((mu_pred - (3 * sigma_pred)), (mu_pred + (3 * sigma_pred)), 100)\n",
    "distribution = sc.stats.norm(loc=mu_pred, scale=sigma_pred)\n",
    "plt.plot(x, distribution.pdf(x))\n",
    "plt.show()"
   ]
  },
  {
   "cell_type": "code",
   "execution_count": null,
   "metadata": {},
   "outputs": [],
   "source": []
  },
  {
   "cell_type": "markdown",
   "metadata": {},
   "source": [
    "## Part 3: Comparing the 2 models\n",
    "\n",
    "First we plot the predictives distributions obtained from the two models."
   ]
  },
  {
   "cell_type": "code",
   "execution_count": null,
   "metadata": {},
   "outputs": [],
   "source": [
    "#plotting the 2 predictive distributions\n",
    "y=st.norm.pdf(x,mu_pred,sigma_pred)\n",
    "plt.plot(x,y,label='predictive distribution with the gaussian assumption')\n",
    "plt.plot(x,(alpha_post * (beta_post)**alpha_post) /(beta_post+x)**(alpha_post+1),\\\n",
    "         label='predictive distribution with the exponential assumption')\n",
    "plt.xlabel('Survival time: $x$', fontsize=15)\n",
    "plt.legend()\n",
    "plt.show()"
   ]
  },
  {
   "cell_type": "markdown",
   "metadata": {},
   "source": [
    "The two predictive distributions look very different. \n",
    "\n",
    "__TODO13__(0.5pt) Intuitively, which model do you think is better? Why?\n",
    "\n",
    "The exponential model looks better, it gives more information since the gaussian is almost a straight line. Maybe if we compute it on a logaritmic scale it would be a better to judge what model is better."
   ]
  },
  {
   "cell_type": "markdown",
   "metadata": {},
   "source": [
    "But how can we compare more formally the two predictive distributions? Remember that we only used the first `p` values of our data set. So we used those first `p` values to build our two models and now, whatever values we did not use, we can use them as test data in order to test the quality of our models. \n",
    "\n",
    "Given the values $y_1, \\dots, y_K$ in our test data set, we can define the log-likelihood of the test data for a predictive distribution $p^\\star$ as\n",
    "$$\n",
    "\\sum_{i=1}^K \\ln p^\\star(y_i)\n",
    "$$\n",
    "If our predictive distribution $p^\\star$ is a good model, then the probabilities $p^\\star(y_i)$ should be high. So if the quantity\n",
    "$$\n",
    "\\sum_{i=1}^K \\ln p^\\star(y_i)\n",
    "$$\n",
    "is high, this indicates that our predictive distribution is a suitable distribution.\n",
    "\n",
    "Note. Why do we use $\\sum_{i=1}^K \\ln p^\\star(y_i)$ instead of $\\prod_{i=1}^N p^\\star(y_i)$? Or why do we use the log of the likelihood instead of the likelihood itself? The values $p^\\star(y_i)$ can be values close to $0$. So if we multiply a lot of small probabilities, due to the limitations of floating point precision, the computer might return a value with a relatively high imprecision.\n",
    "\n",
    "__TODO14__(1pt) Compute the log-likelihood of the test data for the predictive distribution of model 1 and the log-likelihood of the test data for the predictive distribution of model 2. Which one is higher? Which model is better then?"
   ]
  },
  {
   "cell_type": "code",
   "execution_count": null,
   "metadata": {},
   "outputs": [],
   "source": [
    "# dit is totaal niet af\n",
    "data_test = data_full[p:]\n",
    "p_dis_y_gauss = sum(np.log(y))\n",
    "p_dis_y_exp = sum(np.log(predictive_dist))\n",
    "\n",
    "print('log gauss:', p_dis_y_gauss)\n",
    "print('log exp:', p_dis_y_exp)"
   ]
  },
  {
   "cell_type": "code",
   "execution_count": null,
   "metadata": {},
   "outputs": [],
   "source": []
  }
 ],
 "metadata": {
  "kernelspec": {
   "display_name": "Python 3",
   "language": "python",
   "name": "python3"
  },
  "language_info": {
   "codemirror_mode": {
    "name": "ipython",
    "version": 3
   },
   "file_extension": ".py",
   "mimetype": "text/x-python",
   "name": "python",
   "nbconvert_exporter": "python",
   "pygments_lexer": "ipython3",
   "version": "3.6.9"
  }
 },
 "nbformat": 4,
 "nbformat_minor": 2
}
